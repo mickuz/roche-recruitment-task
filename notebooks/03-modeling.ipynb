{
 "cells": [
  {
   "cell_type": "markdown",
   "metadata": {},
   "source": [
    "# Modeling"
   ]
  },
  {
   "cell_type": "code",
   "execution_count": 1,
   "metadata": {},
   "outputs": [
    {
     "name": "stdout",
     "output_type": "stream",
     "text": [
      "D:\\Projekty\\roche-recruitment-task\\src\n"
     ]
    }
   ],
   "source": [
    "cd ../src"
   ]
  },
  {
   "cell_type": "code",
   "execution_count": 2,
   "metadata": {},
   "outputs": [],
   "source": [
    "import pandas as pd\n",
    "\n",
    "from preprocess import impute_missing_values\n",
    "from build_features import convert_features, encode_features, add_new_features"
   ]
  },
  {
   "cell_type": "code",
   "execution_count": 3,
   "metadata": {},
   "outputs": [
    {
     "data": {
      "text/html": [
       "<div>\n",
       "<style scoped>\n",
       "    .dataframe tbody tr th:only-of-type {\n",
       "        vertical-align: middle;\n",
       "    }\n",
       "\n",
       "    .dataframe tbody tr th {\n",
       "        vertical-align: top;\n",
       "    }\n",
       "\n",
       "    .dataframe thead th {\n",
       "        text-align: right;\n",
       "    }\n",
       "</style>\n",
       "<table border=\"1\" class=\"dataframe\">\n",
       "  <thead>\n",
       "    <tr style=\"text-align: right;\">\n",
       "      <th></th>\n",
       "      <th>Survived</th>\n",
       "      <th>Sex</th>\n",
       "      <th>2</th>\n",
       "      <th>3</th>\n",
       "      <th>Medium</th>\n",
       "      <th>Old</th>\n",
       "      <th>Q</th>\n",
       "      <th>S</th>\n",
       "      <th>IsAlone</th>\n",
       "    </tr>\n",
       "  </thead>\n",
       "  <tbody>\n",
       "    <tr>\n",
       "      <th>0</th>\n",
       "      <td>0</td>\n",
       "      <td>0</td>\n",
       "      <td>0</td>\n",
       "      <td>1</td>\n",
       "      <td>0</td>\n",
       "      <td>0</td>\n",
       "      <td>0</td>\n",
       "      <td>1</td>\n",
       "      <td>1</td>\n",
       "    </tr>\n",
       "    <tr>\n",
       "      <th>1</th>\n",
       "      <td>0</td>\n",
       "      <td>0</td>\n",
       "      <td>0</td>\n",
       "      <td>1</td>\n",
       "      <td>1</td>\n",
       "      <td>0</td>\n",
       "      <td>0</td>\n",
       "      <td>1</td>\n",
       "      <td>1</td>\n",
       "    </tr>\n",
       "    <tr>\n",
       "      <th>2</th>\n",
       "      <td>0</td>\n",
       "      <td>0</td>\n",
       "      <td>0</td>\n",
       "      <td>1</td>\n",
       "      <td>0</td>\n",
       "      <td>0</td>\n",
       "      <td>0</td>\n",
       "      <td>1</td>\n",
       "      <td>1</td>\n",
       "    </tr>\n",
       "    <tr>\n",
       "      <th>3</th>\n",
       "      <td>0</td>\n",
       "      <td>0</td>\n",
       "      <td>0</td>\n",
       "      <td>0</td>\n",
       "      <td>0</td>\n",
       "      <td>1</td>\n",
       "      <td>0</td>\n",
       "      <td>1</td>\n",
       "      <td>0</td>\n",
       "    </tr>\n",
       "    <tr>\n",
       "      <th>4</th>\n",
       "      <td>0</td>\n",
       "      <td>0</td>\n",
       "      <td>0</td>\n",
       "      <td>1</td>\n",
       "      <td>1</td>\n",
       "      <td>0</td>\n",
       "      <td>0</td>\n",
       "      <td>1</td>\n",
       "      <td>0</td>\n",
       "    </tr>\n",
       "    <tr>\n",
       "      <th>5</th>\n",
       "      <td>0</td>\n",
       "      <td>0</td>\n",
       "      <td>0</td>\n",
       "      <td>1</td>\n",
       "      <td>0</td>\n",
       "      <td>1</td>\n",
       "      <td>0</td>\n",
       "      <td>1</td>\n",
       "      <td>1</td>\n",
       "    </tr>\n",
       "    <tr>\n",
       "      <th>6</th>\n",
       "      <td>0</td>\n",
       "      <td>0</td>\n",
       "      <td>0</td>\n",
       "      <td>1</td>\n",
       "      <td>1</td>\n",
       "      <td>0</td>\n",
       "      <td>0</td>\n",
       "      <td>1</td>\n",
       "      <td>1</td>\n",
       "    </tr>\n",
       "    <tr>\n",
       "      <th>7</th>\n",
       "      <td>0</td>\n",
       "      <td>0</td>\n",
       "      <td>0</td>\n",
       "      <td>0</td>\n",
       "      <td>0</td>\n",
       "      <td>1</td>\n",
       "      <td>0</td>\n",
       "      <td>0</td>\n",
       "      <td>1</td>\n",
       "    </tr>\n",
       "    <tr>\n",
       "      <th>8</th>\n",
       "      <td>1</td>\n",
       "      <td>0</td>\n",
       "      <td>0</td>\n",
       "      <td>0</td>\n",
       "      <td>0</td>\n",
       "      <td>0</td>\n",
       "      <td>0</td>\n",
       "      <td>0</td>\n",
       "      <td>0</td>\n",
       "    </tr>\n",
       "    <tr>\n",
       "      <th>9</th>\n",
       "      <td>1</td>\n",
       "      <td>1</td>\n",
       "      <td>1</td>\n",
       "      <td>0</td>\n",
       "      <td>0</td>\n",
       "      <td>1</td>\n",
       "      <td>0</td>\n",
       "      <td>1</td>\n",
       "      <td>0</td>\n",
       "    </tr>\n",
       "  </tbody>\n",
       "</table>\n",
       "</div>"
      ],
      "text/plain": [
       "   Survived  Sex  2  3  Medium  Old  Q  S  IsAlone\n",
       "0         0    0  0  1       0    0  0  1        1\n",
       "1         0    0  0  1       1    0  0  1        1\n",
       "2         0    0  0  1       0    0  0  1        1\n",
       "3         0    0  0  0       0    1  0  1        0\n",
       "4         0    0  0  1       1    0  0  1        0\n",
       "5         0    0  0  1       0    1  0  1        1\n",
       "6         0    0  0  1       1    0  0  1        1\n",
       "7         0    0  0  0       0    1  0  0        1\n",
       "8         1    0  0  0       0    0  0  0        0\n",
       "9         1    1  1  0       0    1  0  1        0"
      ]
     },
     "execution_count": 3,
     "metadata": {},
     "output_type": "execute_result"
    }
   ],
   "source": [
    "df = pd.read_csv(\"../data/train.csv\", sep=\";\")\n",
    "df = df.drop([\"PassengerId\", \"Name\", \"Ticket\", \"Fare\", \"Cabin\"], axis=1)\n",
    "\n",
    "df = impute_missing_values(df, cat_columns=[\"Embarked\"], num_columns=[\"Age\"])\n",
    "df = convert_features(df)\n",
    "df = encode_features(df, columns=[\"Pclass\", \"Age\", \"Embarked\"])\n",
    "df = add_new_features(df)\n",
    "\n",
    "df.head(10)"
   ]
  },
  {
   "cell_type": "markdown",
   "metadata": {},
   "source": [
    "## Comparing models"
   ]
  },
  {
   "cell_type": "code",
   "execution_count": 15,
   "metadata": {},
   "outputs": [
    {
     "data": {
      "text/html": [
       "<div>\n",
       "<style scoped>\n",
       "    .dataframe tbody tr th:only-of-type {\n",
       "        vertical-align: middle;\n",
       "    }\n",
       "\n",
       "    .dataframe tbody tr th {\n",
       "        vertical-align: top;\n",
       "    }\n",
       "\n",
       "    .dataframe thead th {\n",
       "        text-align: right;\n",
       "    }\n",
       "</style>\n",
       "<table border=\"1\" class=\"dataframe\">\n",
       "  <thead>\n",
       "    <tr style=\"text-align: right;\">\n",
       "      <th></th>\n",
       "      <th>test_accuracy</th>\n",
       "      <th>test_f1</th>\n",
       "      <th>model</th>\n",
       "    </tr>\n",
       "  </thead>\n",
       "  <tbody>\n",
       "    <tr>\n",
       "      <th>4</th>\n",
       "      <td>0.800448</td>\n",
       "      <td>0.770686</td>\n",
       "      <td>Random Forest</td>\n",
       "    </tr>\n",
       "    <tr>\n",
       "      <th>2</th>\n",
       "      <td>0.797948</td>\n",
       "      <td>0.769387</td>\n",
       "      <td>Decision Tree</td>\n",
       "    </tr>\n",
       "    <tr>\n",
       "      <th>5</th>\n",
       "      <td>0.786806</td>\n",
       "      <td>0.759317</td>\n",
       "      <td>kNN</td>\n",
       "    </tr>\n",
       "    <tr>\n",
       "      <th>0</th>\n",
       "      <td>0.784120</td>\n",
       "      <td>0.762701</td>\n",
       "      <td>Linear SVM</td>\n",
       "    </tr>\n",
       "    <tr>\n",
       "      <th>3</th>\n",
       "      <td>0.783086</td>\n",
       "      <td>0.763414</td>\n",
       "      <td>Logistic Regression</td>\n",
       "    </tr>\n",
       "    <tr>\n",
       "      <th>1</th>\n",
       "      <td>0.761898</td>\n",
       "      <td>0.741353</td>\n",
       "      <td>Naive Bayes</td>\n",
       "    </tr>\n",
       "  </tbody>\n",
       "</table>\n",
       "</div>"
      ],
      "text/plain": [
       "   test_accuracy   test_f1                model\n",
       "4       0.800448  0.770686        Random Forest\n",
       "2       0.797948  0.769387        Decision Tree\n",
       "5       0.786806  0.759317                  kNN\n",
       "0       0.784120  0.762701           Linear SVM\n",
       "3       0.783086  0.763414  Logistic Regression\n",
       "1       0.761898  0.741353          Naive Bayes"
      ]
     },
     "execution_count": 15,
     "metadata": {},
     "output_type": "execute_result"
    }
   ],
   "source": [
    "from sklearn.svm import SVC\n",
    "from sklearn.naive_bayes import GaussianNB\n",
    "from sklearn.tree import DecisionTreeClassifier\n",
    "from sklearn.linear_model import LogisticRegression\n",
    "from sklearn.ensemble import RandomForestClassifier\n",
    "from sklearn.neighbors import KNeighborsClassifier\n",
    "\n",
    "from sklearn.model_selection import KFold, cross_validate\n",
    "\n",
    "from sklearn.metrics import accuracy_score, f1_score\n",
    "\n",
    "X = df.drop([\"Survived\"], axis=1)\n",
    "y = df[\"Survived\"]\n",
    "\n",
    "classifiers = [\n",
    "    SVC(kernel=\"linear\"),\n",
    "    GaussianNB(),\n",
    "    DecisionTreeClassifier(max_depth=5),\n",
    "    LogisticRegression(),\n",
    "    RandomForestClassifier(max_depth=5, n_estimators=10),\n",
    "    KNeighborsClassifier()]\n",
    "\n",
    "clf_names = [\n",
    "    \"Linear SVM\", \n",
    "    \"Naive Bayes\", \n",
    "    \"Decision Tree\", \n",
    "    \"Logistic Regression\", \n",
    "    \"Random Forest\", \n",
    "    \"kNN\"]\n",
    "\n",
    "kfold = KFold(n_splits=10, shuffle=True)\n",
    "scoring = {\"accuracy\": \"accuracy\",\n",
    "           \"f1\": \"f1_macro\"}\n",
    "\n",
    "clf_scores = []\n",
    "for clf in classifiers:\n",
    "    cross_val_scores = cross_validate(clf, X, y, cv=kfold, scoring=scoring)\n",
    "    cross_val_scores = {key: score.mean() for key, score in cross_val_scores.items()}\n",
    "    clf_scores.append(cross_val_scores)\n",
    "\n",
    "results = pd.DataFrame(clf_scores)\n",
    "results = results.drop([\"fit_time\", \"score_time\"], axis=1)\n",
    "results[\"model\"] = clf_names\n",
    "results = results.sort_values(by=\"test_accuracy\", ascending=False)\n",
    "results"
   ]
  },
  {
   "cell_type": "markdown",
   "metadata": {},
   "source": [
    "Random Forest classifier has the highest accuracy and F1 score."
   ]
  },
  {
   "cell_type": "markdown",
   "metadata": {},
   "source": [
    "## Hyperparameter tuning"
   ]
  },
  {
   "cell_type": "code",
   "execution_count": 21,
   "metadata": {},
   "outputs": [
    {
     "data": {
      "text/plain": [
       "{'max_depth': 5,\n",
       " 'min_samples_leaf': 5,\n",
       " 'min_samples_split': 12,\n",
       " 'n_estimators': 10}"
      ]
     },
     "execution_count": 21,
     "metadata": {},
     "output_type": "execute_result"
    }
   ],
   "source": [
    "from sklearn.model_selection import GridSearchCV\n",
    "\n",
    "param_grid = {\"max_depth\": [1, 2, 5, 10], \n",
    "              \"min_samples_leaf\": [1, 5, 10, 25, 50], \n",
    "              \"min_samples_split\": [2, 4, 10, 12, 16, 18], \n",
    "              \"n_estimators\": [10, 50, 100, 200]}\n",
    "\n",
    "rf = RandomForestClassifier(random_state=1, n_jobs=-1)\n",
    "clf = GridSearchCV(estimator=rf, param_grid=param_grid, n_jobs=-1)\n",
    "clf.fit(X, y)\n",
    "clf.best_params_"
   ]
  },
  {
   "cell_type": "markdown",
   "metadata": {},
   "source": [
    "## Final classifier"
   ]
  },
  {
   "cell_type": "code",
   "execution_count": 23,
   "metadata": {},
   "outputs": [
    {
     "name": "stdout",
     "output_type": "stream",
     "text": [
      "Accuracy: 80.30401234567901\n",
      "F1 score: 77.24400772026289\n"
     ]
    }
   ],
   "source": [
    "clf = RandomForestClassifier(max_depth=5,\n",
    "                             min_samples_leaf=5,\n",
    "                             min_samples_split=12,\n",
    "                             n_estimators=10)\n",
    "\n",
    "clf.fit(X, y)\n",
    "\n",
    "scores = cross_validate(clf, X, y, cv=kfold, scoring=scoring)\n",
    "scores = {key: score.mean() for key, score in scores.items()}\n",
    "\n",
    "print(\"Accuracy: {}\".format(str(scores[\"test_accuracy\"] * 100)))\n",
    "print(\"F1 score: {}\".format(str(scores[\"test_f1\"] * 100)))"
   ]
  }
 ],
 "metadata": {
  "kernelspec": {
   "display_name": "Python 3",
   "language": "python",
   "name": "python3"
  },
  "language_info": {
   "codemirror_mode": {
    "name": "ipython",
    "version": 3
   },
   "file_extension": ".py",
   "mimetype": "text/x-python",
   "name": "python",
   "nbconvert_exporter": "python",
   "pygments_lexer": "ipython3",
   "version": "3.7.0"
  }
 },
 "nbformat": 4,
 "nbformat_minor": 4
}
